{
 "cells": [
  {
   "cell_type": "code",
   "execution_count": 1,
   "id": "3b278797",
   "metadata": {},
   "outputs": [],
   "source": [
    "import pandas as pd"
   ]
  },
  {
   "cell_type": "code",
   "execution_count": 30,
   "id": "2ee42231",
   "metadata": {
    "scrolled": true
   },
   "outputs": [],
   "source": [
    "# load in master csv\n",
    "df = pd.read_csv(\"passplaysfiltered.csv\")"
   ]
  },
  {
   "cell_type": "code",
   "execution_count": 27,
   "id": "bf946d33",
   "metadata": {},
   "outputs": [
    {
     "name": "stdout",
     "output_type": "stream",
     "text": [
      "0        K Murray\n",
      "1        K Murray\n",
      "2        K Murray\n",
      "3        K Murray\n",
      "4        K Murray\n",
      "           ...   \n",
      "62121    S Howell\n",
      "62122    S Howell\n",
      "62123    S Howell\n",
      "62124    S Howell\n",
      "62125    S Howell\n",
      "Name: Player, Length: 62126, dtype: object\n"
     ]
    }
   ],
   "source": [
    "# rename column name to match yearly data\n",
    "# remove non letter characters and replace with a space\n",
    "df.rename(columns = {\"passer_player_name\": \"Player\"}, inplace=True)\n",
    "df[\"Player\"] = df[\"Player\"].str.replace(r\"[^a-zA-Z]\", \" \", regex=True)\n",
    "print(df[\"Player\"])"
   ]
  },
  {
   "cell_type": "code",
   "execution_count": 26,
   "id": "c1d54fff",
   "metadata": {},
   "outputs": [
    {
     "name": "stdout",
     "output_type": "stream",
     "text": [
      "                Player  PktTime\n",
      "0    Patrick Mahomes*+      2.6\n",
      "1       Justin Herbert      2.5\n",
      "2            Tom Brady      2.2\n",
      "3        Kirk Cousins*      2.5\n",
      "4          Joe Burrow*      2.2\n",
      "..                 ...      ...\n",
      "101     Christian Kirk      1.1\n",
      "102        Cooper Kupp      3.2\n",
      "103       James Proche      0.4\n",
      "104   Tommy Townsend*+      3.3\n",
      "105     Garrett Wilson      4.3\n",
      "\n",
      "[106 rows x 2 columns]\n"
     ]
    }
   ],
   "source": [
    "# load in yearly data, only loading in the important columns using usecols\n",
    "# the data had unnecessary row at begining of csv, so skiprows=1 removes the first row\n",
    "columns = [\"Player\", \"PktTime\"]\n",
    "df_2021 = pd.read_csv(\"2021 Advanced Passing Stats.csv\", skiprows=1, usecols=columns)\n",
    "df_2022 = pd.read_csv(\"2022 Advanced Passing Stats.csv\", skiprows=1, usecols=columns)\n",
    "df_2023 = pd.read_csv(\"2023 Advanced Passing Stats.csv\", skiprows=1, usecols=columns)\n",
    "print(df_2022)"
   ]
  },
  {
   "cell_type": "code",
   "execution_count": 25,
   "id": "a416fe84",
   "metadata": {},
   "outputs": [
    {
     "name": "stdout",
     "output_type": "stream",
     "text": [
      "         Player  PktTime\n",
      "0     P Mahomes      2.6\n",
      "1     J Herbert      2.5\n",
      "2       T Brady      2.2\n",
      "3     K Cousins      2.5\n",
      "4      J Burrow      2.2\n",
      "..          ...      ...\n",
      "101      C Kirk      1.1\n",
      "102      C Kupp      3.2\n",
      "103    J Proche      0.4\n",
      "104  T Townsend      3.3\n",
      "105    G Wilson      4.3\n",
      "\n",
      "[106 rows x 2 columns]\n"
     ]
    }
   ],
   "source": [
    "# data cleaning\n",
    "# remove non letter characters\n",
    "df_2021[\"Player\"] = df_2021[\"Player\"].str.replace(r\"[^a-zA-Z\\s]\", \"\", regex=True)\n",
    "df_2022[\"Player\"] = df_2022[\"Player\"].str.replace(r\"[^a-zA-Z\\s]\", \"\", regex=True)\n",
    "df_2023[\"Player\"] = df_2023[\"Player\"].str.replace(r\"[^a-zA-Z\\s]\", \"\", regex=True)\n",
    "print(df_2022)"
   ]
  },
  {
   "cell_type": "code",
   "execution_count": 24,
   "id": "68168a7d",
   "metadata": {},
   "outputs": [
    {
     "name": "stdout",
     "output_type": "stream",
     "text": [
      "         Player  PktTime\n",
      "0     P Mahomes      2.6\n",
      "1     J Herbert      2.5\n",
      "2       T Brady      2.2\n",
      "3     K Cousins      2.5\n",
      "4      J Burrow      2.2\n",
      "..          ...      ...\n",
      "101      C Kirk      1.1\n",
      "102      C Kupp      3.2\n",
      "103    J Proche      0.4\n",
      "104  T Townsend      3.3\n",
      "105    G Wilson      4.3\n",
      "\n",
      "[106 rows x 2 columns]\n"
     ]
    }
   ],
   "source": [
    "# format player column to match name format from the master dataset\n",
    "df_2021[\"Player\"] = df_2021[\"Player\"].apply(lambda x: f\"{x.split()[0][0]} {x.split()[1]}\" if len(x.split()) > 1 else x)\n",
    "df_2022[\"Player\"] = df_2022[\"Player\"].apply(lambda x: f\"{x.split()[0][0]} {x.split()[1]}\" if len(x.split()) > 1 else x)\n",
    "df_2023[\"Player\"] = df_2023[\"Player\"].apply(lambda x: f\"{x.split()[0][0]} {x.split()[1]}\" if len(x.split()) > 1 else x)\n",
    "print(df_2022)"
   ]
  },
  {
   "cell_type": "code",
   "execution_count": 22,
   "id": "52181bf6",
   "metadata": {},
   "outputs": [],
   "source": [
    "# split df into three datasets based on year\n",
    "# this will make merging the PkTime datasets easier\n",
    "df_21_tmp = df[df['season'] == 2021]\n",
    "df_22_tmp = df[df['season'] == 2022]\n",
    "df_23_tmp = df[df['season'] == 2023]"
   ]
  },
  {
   "cell_type": "code",
   "execution_count": 21,
   "id": "f3d317b7",
   "metadata": {},
   "outputs": [],
   "source": [
    "# merge datasets based on Quarterback(player) name\n",
    "# three different merged datasets based on year(season)\n",
    "df_21_merge = pd.merge(df_21_tmp, df_2021, on='Player', how='left')\n",
    "df_22_merge = pd.merge(df_22_tmp, df_2022, on='Player', how='left')\n",
    "df_23_merge = pd.merge(df_23_tmp, df_2023, on='Player', how='left')"
   ]
  },
  {
   "cell_type": "code",
   "execution_count": 20,
   "id": "1229ff71",
   "metadata": {},
   "outputs": [],
   "source": [
    "# combine all the merge datasets together to make the master dataset\n",
    "df_combined = pd.concat([df_21_merge, df_22_merge, df_23_merge], axis=0, ignore_index=True)"
   ]
  },
  {
   "cell_type": "code",
   "execution_count": null,
   "id": "e12c58bb",
   "metadata": {},
   "outputs": [],
   "source": []
  }
 ],
 "metadata": {
  "kernelspec": {
   "display_name": "Python 3 (ipykernel)",
   "language": "python",
   "name": "python3"
  },
  "language_info": {
   "codemirror_mode": {
    "name": "ipython",
    "version": 3
   },
   "file_extension": ".py",
   "mimetype": "text/x-python",
   "name": "python",
   "nbconvert_exporter": "python",
   "pygments_lexer": "ipython3",
   "version": "3.9.12"
  }
 },
 "nbformat": 4,
 "nbformat_minor": 5
}
